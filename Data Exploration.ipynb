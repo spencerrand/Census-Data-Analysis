{
 "cells": [
  {
   "cell_type": "markdown",
   "metadata": {},
   "source": [
    "We explored the American Community Survey (ACS), which is collected by the US Census Bureau. This is an annual survey that covers a broad range of topics about social, economic, demographic, and housing characteristics of the U.S. population.  The ACS 5-year survey contains data collected from 2012 to2016. The survey is similar to other surveys created by ACS but is the largest sample size, the most reliable but is the least current. \n",
    "\n",
    "The data provided needed minimal cleanup.  Our group spent much more time on the data exploration part of the process. The ACS dataset contains 65,000 variables spanning characteristics such as income, education, profession, and modes of transportation. It took us a while to figure out what kinds of data exists in the survey, the differences between the surveys, and what sections had usable data.  For example, we initially wanted to compare the earnings of various obscure professions such as fence erectors, hazardous materials workers, sewer pipe cleaners, and paperhangers. When we performed API calls, however, we received an error message. After further data exploration, we discovered that these variables, though listed in the documentation, did not contain data. \n",
    "\n",
    "We then tried to each individually find data sets that had actual data. We found data on the different birthplaces of U.S residents and the citizen status of those residents but decided to look elsewhere for other data sets. We then found data on gender, age, and degrees obtained and decided to re scope our project so we are all working on data sets that fall under gender, age and degrees obtained so that we are working as a cohesive team and not working on 4 individual efforts. \n",
    "\n",
    "When collecting and cleaning data, we encountered two major challenges. First, we needed to perform API calls on dozens of variables and assemble the results into separate dictionaries for each demographic subgroup. Spencer designed a function that allowed us to do this in an efficient way. Otherwise, we would have needed to use separate code for each of the age and gender subgroups. Once we had our dictionaries, we needed to convert them into a data frame. The challenge was that we needed to add each dictionary as a row, not a column. After some trial and error, Spencer discovered that we could solve this challenge using the \"append\" command, normally used to add items to lists.\n",
    "\n"
   ]
  }
 ],
 "metadata": {
  "kernelspec": {
   "display_name": "Python 3",
   "language": "python",
   "name": "python3"
  },
  "language_info": {
   "codemirror_mode": {
    "name": "ipython",
    "version": 3
   },
   "file_extension": ".py",
   "mimetype": "text/x-python",
   "name": "python",
   "nbconvert_exporter": "python",
   "pygments_lexer": "ipython3",
   "version": "3.6.4"
  }
 },
 "nbformat": 4,
 "nbformat_minor": 2
}
