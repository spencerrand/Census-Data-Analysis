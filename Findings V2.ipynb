{
 "cells": [
  {
   "cell_type": "markdown",
   "metadata": {},
   "source": [
    "<h1> Are more individuals graduating college with a degree in STEM (Science, Technology, Engineering and Math)?</h1>\n",
    "\n",
    "<p> The data showed that there is a generational shift towards STEM degrees among women, but not among men.  The percentage of women with a degree in Engineering increases from 30% to 43% for the oldest and youngest demographics, respectively.  Over time the percentage of 25-39 year olds with a degree in Engineering has been flat for males and grown from 42% in 2013 to 43% in 2016.  While the growth hasn't been dramatic over the past four years, it does indicate a positive trend."
   ]
  },
  {
   "cell_type": "markdown",
   "metadata": {},
   "source": [
    "![title](DegreeBreakdown.png)"
   ]
  },
  {
   "cell_type": "markdown",
   "metadata": {},
   "source": [
    "![title](EngineeringBreakdown.png)"
   ]
  },
  {
   "cell_type": "markdown",
   "metadata": {},
   "source": [
    "<h1> Are women more likely to earn college degrees?</h1>\n",
    "\n",
    "<p> Compared to young men, young women are more likely to hold college degrees. More than two-fifths (41.6%) of women who are 25 to 34 hold a Bachelor's degree or higher, compared to one-third (33.9%) of men in the same age group. This represents a sharp reversal from  decades ago. Of the oldest women (65+), only one-quarter (25.2%) hold at least a Bachelor's, compared to more than one-third (37.2%) of the oldest men.\n",
    "    \n",
    "    \n",
    "\n",
    "![title](AttainmentBreakdown.png)\n"
   ]
  },
  {
   "cell_type": "markdown",
   "metadata": {},
   "source": [
    "<h1> Do women hold more graduate or professional degrees?</h1>\n",
    "\n",
    "<p> Overall, women represent 51.6% of graduate or professional degree holders. They account for the highest share in Puerto Rico (60.4%), Mississippi (57.4%), Kentucky (55.6%), New York (55.5%), and South Carolina (54.7%). They account for the lowest share in Utah (33.8%), Idaho (44.1%), Washington (49.0%), Arizona (49.1%), and Texas (49.2%).\n",
    "    \n",
    "![title](%25_female_grad_degrees.png)"
   ]
  },
  {
   "cell_type": "code",
   "execution_count": null,
   "metadata": {},
   "outputs": [],
   "source": []
  }
 ],
 "metadata": {
  "kernelspec": {
   "display_name": "Python 3",
   "language": "python",
   "name": "python3"
  },
  "language_info": {
   "codemirror_mode": {
    "name": "ipython",
    "version": 3
   },
   "file_extension": ".py",
   "mimetype": "text/x-python",
   "name": "python",
   "nbconvert_exporter": "python",
   "pygments_lexer": "ipython3",
   "version": "3.6.4"
  }
 },
 "nbformat": 4,
 "nbformat_minor": 2
}
