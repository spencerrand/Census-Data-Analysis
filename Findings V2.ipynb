{
 "cells": [
  {
   "cell_type": "markdown",
   "metadata": {},
   "source": [
    "<h1> Are more individuals graduating college with a degree in STEM (Science, Technology, Engineering and Math)?</h1>\n",
    "\n",
    "<p> The data showed that there is a generational shift towards STEM degrees among women, but not among men.  The percentage of women with a degree in Engineering increases from 30% to 43% for the oldest and youngest demographics, respectively.  Over time the percentage of 25-39 year olds with a degree in Engineering has been flat for males and grown from 42% in 2013 to 43% in 2016.  While the growth hasn't been dramatic over the past four years, it does indicate a positive trend."
   ]
  },
  {
   "cell_type": "markdown",
   "metadata": {},
   "source": [
    "![title](DegreeBreakdown.png)"
   ]
  },
  {
   "cell_type": "markdown",
   "metadata": {},
   "source": [
    "![title](EngineeringBreakdown.png)"
   ]
  },
  {
   "cell_type": "markdown",
   "metadata": {},
   "source": [
    "<h1> Is there a higher chance of someone holding  specific degree based solely on their race?</h1>\n",
    "\n",
    "<p> The data showed that if you are Asian and hold a bachelor’s degree, there is at minimum a 20.8% percent higher chance of you holding a bachelor’s degree in engineering than any other race. The data also shows that if you are African-American and hold a bachelor’s degree there is a 24.0% chance that your degree is in Education, higher than any of other race. The data also showed that only 4.8% of Asians with bachelor degrees hold there degree in Education. This was dramatically lower than any other race. \n",
    "For the most part the percentages for individuals holding degrees in engineering, education, business and other degrees based on race is fairly consistent besides the findings we mentioned above.\n",
    "    \n",
    "    \n",
    "\n",
    "![title](DegreebyRace.png)"
   ]
  },
  {
   "cell_type": "markdown",
   "metadata": {},
   "source": [
    "<h1> Are women more likely to earn college degrees?</h1>\n",
    "\n",
    "<p> Compared to young men, young women are more likely to hold college degrees. More than two-fifths (41.6%) of women who are 25 to 34 hold a Bachelor's degree or higher, compared to one-third (33.9%) of men in the same age group. This represents a sharp reversal from  decades ago. Of the oldest women (65+), only one-quarter (25.2%) hold at least a Bachelor's, compared to more than one-third (37.2%) of the oldest men.\n",
    "    \n",
    "    \n",
    "\n",
    "![title](AttainmentBreakdown.png)"
   ]
  },
  {
   "cell_type": "markdown",
   "metadata": {},
   "source": [
    "<h1> Do women hold more graduate or professional degrees?</h1>\n",
    "\n",
    "<p> Overall, women represent 51.6% of graduate or professional degree holders. They account for the highest share in Puerto Rico (60.4%), Mississippi (57.4%), Kentucky (55.6%), New York (55.5%), and South Carolina (54.7%). They account for the lowest share in Utah (33.8%), Idaho (44.1%), Washington (49.0%), Arizona (49.1%), and Texas (49.2%).\n",
    "    \n",
    "![title](%25_female_grad_degrees.png)"
   ]
  },
  {
   "cell_type": "markdown",
   "metadata": {},
   "source": [
    "<h1> Do women always earn less than men?</h1>\n",
    "\n",
    "<p> Women earn less than men, regardless of educational attainment. Moreover, the disparity is similar at all education levels. Women who only have a high school diploma have a median income of 22,571 USD, which is 66.4% of the median among men who only have a high school diploma (34,010 USD). At the other end of the spectrum, women who have a graduate or professional degree earn a median of 56,859 USD, which is 66.8% of the median among men with such degrees (85,127 USD). This does not prove, however, that women receive less pay for equal work. This analysis does not control for the types of career decisions that people make, such as the types of majors they choose, or the amount they work.\n",
    "    \n",
    "![title](MedianEarnings.png)\n"
   ]
  },
  {
   "cell_type": "code",
   "execution_count": null,
   "metadata": {},
   "outputs": [],
   "source": []
  }
 ],
 "metadata": {
  "kernelspec": {
   "display_name": "Python 3",
   "language": "python",
   "name": "python3"
  },
  "language_info": {
   "codemirror_mode": {
    "name": "ipython",
    "version": 3
   },
   "file_extension": ".py",
   "mimetype": "text/x-python",
   "name": "python",
   "nbconvert_exporter": "python",
   "pygments_lexer": "ipython3",
   "version": "3.6.4"
  }
 },
 "nbformat": 4,
 "nbformat_minor": 2
}
